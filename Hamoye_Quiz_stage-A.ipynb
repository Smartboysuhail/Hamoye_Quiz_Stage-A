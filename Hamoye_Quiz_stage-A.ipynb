{
 "cells": [
  {
   "cell_type": "code",
   "execution_count": 2,
   "id": "63a26179-5b0a-4b77-8a3d-321b645a8d77",
   "metadata": {},
   "outputs": [],
   "source": [
    "import pandas as pd"
   ]
  },
  {
   "cell_type": "code",
   "execution_count": 3,
   "id": "40e27801-80bc-4ce9-83eb-ea9088e3ac7d",
   "metadata": {},
   "outputs": [],
   "source": [
    "df=pd.read_csv('FoodBalanceSheets_E_Africa_NOFLAG.csv',encoding='latin-1')"
   ]
  },
  {
   "cell_type": "code",
   "execution_count": 13,
   "id": "17a5f63c-9e18-4721-ab77-71c96f5b0723",
   "metadata": {},
   "outputs": [],
   "source": [
    "Mean= df['Y2017'].mean()"
   ]
  },
  {
   "cell_type": "code",
   "execution_count": 15,
   "id": "11176173-ff50-4a90-9398-8a7d7fd4c99d",
   "metadata": {},
   "outputs": [
    {
     "name": "stdout",
     "output_type": "stream",
     "text": [
      "140.92\n"
     ]
    }
   ],
   "source": [
    "Mean= round(Mean,2)\n",
    "print(Mean)"
   ]
  },
  {
   "cell_type": "code",
   "execution_count": 16,
   "id": "d2671d7f-7236-458c-b101-9fb3333dbc78",
   "metadata": {},
   "outputs": [],
   "source": [
    "STD= df['Y2017'].std()"
   ]
  },
  {
   "cell_type": "code",
   "execution_count": 17,
   "id": "79d4dae5-1a9e-4662-b680-706f6365ab6b",
   "metadata": {},
   "outputs": [
    {
     "name": "stdout",
     "output_type": "stream",
     "text": [
      "1671.86\n"
     ]
    }
   ],
   "source": [
    "STD= round(STD,2)\n",
    "print(STD)"
   ]
  },
  {
   "cell_type": "code",
   "execution_count": 22,
   "id": "2643908b-62c1-46ef-911f-e7c06505d8ac",
   "metadata": {},
   "outputs": [
    {
     "name": "stdout",
     "output_type": "stream",
     "text": [
      "173.04999999999998\n"
     ]
    }
   ],
   "source": [
    "print(df.loc[(df['Area'] == 'Madagascar') & (df['Element'] == 'Protein supply quantity (g/capita/day)'), 'Y2015'].sum())\n"
   ]
  },
  {
   "cell_type": "code",
   "execution_count": 51,
   "id": "1cee0717-0303-4816-bac8-62ab6ba1eabb",
   "metadata": {},
   "outputs": [],
   "source": [
    "wine_group_in_2015 = df[df['Item'] == 'Wine'].groupby('Item')['Y2015'].sum().sum()\n",
    "\n",
    "\n",
    "wine_group_in_2018 = df[df['Item'] == 'Wine'].groupby('Item')['Y2018'].sum().sum()\n"
   ]
  },
  {
   "cell_type": "code",
   "execution_count": 52,
   "id": "13120ae9-917e-4993-b3e4-fbbdc29bb53a",
   "metadata": {},
   "outputs": [
    {
     "name": "stdout",
     "output_type": "stream",
     "text": [
      "4251.81\n"
     ]
    }
   ],
   "source": [
    "print(round(wine_group_in_2015,2))"
   ]
  },
  {
   "cell_type": "code",
   "execution_count": 53,
   "id": "bbf74c66-a8ab-4319-9612-398f416c8492",
   "metadata": {},
   "outputs": [
    {
     "name": "stdout",
     "output_type": "stream",
     "text": [
      "4039.32\n"
     ]
    }
   ],
   "source": [
    "print(round(wine_group_in_2018,2))"
   ]
  },
  {
   "cell_type": "code",
   "execution_count": 45,
   "id": "052e22ec-ac27-482f-ac08-cd859ee21d25",
   "metadata": {},
   "outputs": [
    {
     "name": "stdout",
     "output_type": "stream",
     "text": [
      "49\n"
     ]
    }
   ],
   "source": [
    "print(len(df['Area'].unique()))"
   ]
  },
  {
   "cell_type": "code",
   "execution_count": 50,
   "id": "b59cbb87-a47a-4b71-bbed-0d3aa051a64c",
   "metadata": {},
   "outputs": [
    {
     "name": "stdout",
     "output_type": "stream",
     "text": [
      "292836.0\n"
     ]
    }
   ],
   "source": [
    "print(df[df['Element'] == 'Processing'].groupby('Element')['Y2017'].sum().sum())\n"
   ]
  },
  {
   "cell_type": "code",
   "execution_count": 58,
   "id": "fec9e865-c8de-4ea4-9e3d-69fb381bebb2",
   "metadata": {},
   "outputs": [
    {
     "data": {
      "text/plain": [
       "Y2017    Nigeria\n",
       "dtype: object"
      ]
     },
     "execution_count": 58,
     "metadata": {},
     "output_type": "execute_result"
    }
   ],
   "source": [
    "df[['Area','Y2017']].groupby('Area').sum().idxmax()\n"
   ]
  },
  {
   "cell_type": "code",
   "execution_count": 59,
   "id": "19c43d6d-29dc-4388-8d30-9c5ab570250c",
   "metadata": {},
   "outputs": [],
   "source": [
    "correlations = {}\n",
    "for year in df.columns[7:]:\n",
    "    correlation = df['Element Code'].corr(df[year])\n",
    "    correlations[year] = correlation\n",
    "\n",
    "least_correlated_year = min(correlations, key=correlations.get)\n"
   ]
  },
  {
   "cell_type": "code",
   "execution_count": 60,
   "id": "871ae961-e183-4ea7-98dd-458afae0d2a7",
   "metadata": {},
   "outputs": [
    {
     "name": "stdout",
     "output_type": "stream",
     "text": [
      "Y2016\n"
     ]
    }
   ],
   "source": [
    "print(least_correlated_year)"
   ]
  },
  {
   "cell_type": "code",
   "execution_count": 68,
   "id": "57d09d4e-b96d-4728-983b-7de2adda853e",
   "metadata": {},
   "outputs": [],
   "source": [
    "Stock_Variation = df[df['Element']=='Stock Variation'].groupby('Element')[['Y2014','Y2015','Y2016','Y2017','Y2018']].sum()"
   ]
  },
  {
   "cell_type": "code",
   "execution_count": 70,
   "id": "28cbb6d7-833c-4544-81f4-5e90254ca45f",
   "metadata": {},
   "outputs": [
    {
     "name": "stdout",
     "output_type": "stream",
     "text": [
      "                    Y2014     Y2015     Y2016     Y2017     Y2018\n",
      "Element                                                          \n",
      "Stock Variation  58749.83  34910.99  33140.12  54316.91  20577.91\n"
     ]
    }
   ],
   "source": [
    "print(Stock_Variation)"
   ]
  },
  {
   "cell_type": "code",
   "execution_count": 69,
   "id": "40472bb2-080f-45fa-9b3e-33cd5c28d20b",
   "metadata": {},
   "outputs": [
    {
     "name": "stdout",
     "output_type": "stream",
     "text": [
      "Y2014\n"
     ]
    }
   ],
   "source": [
    "print(Stock_Variation.idxmax(axis=1).values[0])"
   ]
  },
  {
   "cell_type": "code",
   "execution_count": 81,
   "id": "0cd02955-225d-48f8-9d6e-cf32bb8ef43b",
   "metadata": {},
   "outputs": [],
   "source": [
    "req=df['Y2014'].isnull().sum()"
   ]
  },
  {
   "cell_type": "code",
   "execution_count": 82,
   "id": "b47df5e2-8e73-496c-9516-c3813c43ee93",
   "metadata": {},
   "outputs": [],
   "source": [
    "total=len(df['Y2014'])"
   ]
  },
  {
   "cell_type": "code",
   "execution_count": 83,
   "id": "a0ce030a-166d-4b93-b2bd-64d38805bbcf",
   "metadata": {},
   "outputs": [
    {
     "name": "stdout",
     "output_type": "stream",
     "text": [
      "2.6073544131401474\n"
     ]
    }
   ],
   "source": [
    "percentage = (req / total)*100\n",
    "print(percentage)"
   ]
  },
  {
   "cell_type": "code",
   "execution_count": 86,
   "id": "32dd9c83-4b23-4213-9e3b-cb1e81a13d50",
   "metadata": {},
   "outputs": [],
   "source": [
    "list=df[['Area','Y2017']].groupby('Area').sum().sort_values(by='Y2017')"
   ]
  },
  {
   "cell_type": "code",
   "execution_count": 94,
   "id": "50f70bb2-5068-4b2c-8fdd-6b4770538dec",
   "metadata": {},
   "outputs": [
    {
     "name": "stdout",
     "output_type": "stream",
     "text": [
      "Y2017    Guinea-Bissau\n",
      "dtype: object\n"
     ]
    }
   ],
   "source": [
    "print(list[6:7].idxmax())"
   ]
  },
  {
   "cell_type": "code",
   "execution_count": null,
   "id": "5c68fa7f-e7a9-496c-a9e2-62795f42d76f",
   "metadata": {},
   "outputs": [],
   "source": []
  }
 ],
 "metadata": {
  "kernelspec": {
   "display_name": "Python 3 (ipykernel)",
   "language": "python",
   "name": "python3"
  },
  "language_info": {
   "codemirror_mode": {
    "name": "ipython",
    "version": 3
   },
   "file_extension": ".py",
   "mimetype": "text/x-python",
   "name": "python",
   "nbconvert_exporter": "python",
   "pygments_lexer": "ipython3",
   "version": "3.9.18"
  }
 },
 "nbformat": 4,
 "nbformat_minor": 5
}
